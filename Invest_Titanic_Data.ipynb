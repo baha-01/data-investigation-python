{
 "cells": [
  {
   "cell_type": "code",
   "execution_count": 80,
   "id": "24f67176",
   "metadata": {},
   "outputs": [],
   "source": [
    "import unicodecsv \n",
    "\n",
    "def read_csv(filename) :\n",
    "    with open(filename , 'rb') as f :\n",
    "        reader = unicodecsv.DictReader(f)\n",
    "        return list(reader)\n",
    "\n",
    "titanic_data = read_csv('titanic_data.csv')"
   ]
  },
  {
   "cell_type": "code",
   "execution_count": 81,
   "id": "afbe09c5",
   "metadata": {},
   "outputs": [
    {
     "data": {
      "text/plain": [
       "{'PassengerId': '3',\n",
       " 'Survived': '1',\n",
       " 'Pclass': '3',\n",
       " 'Name': 'Heikkinen, Miss. Laina',\n",
       " 'Sex': 'female',\n",
       " 'Age': '26',\n",
       " 'SibSp': '0',\n",
       " 'Parch': '0',\n",
       " 'Ticket': 'STON/O2. 3101282',\n",
       " 'Fare': '7.925',\n",
       " 'Cabin': '',\n",
       " 'Embarked': 'S'}"
      ]
     },
     "execution_count": 81,
     "metadata": {},
     "output_type": "execute_result"
    }
   ],
   "source": [
    "titanic_data[2]"
   ]
  },
  {
   "cell_type": "code",
   "execution_count": 82,
   "id": "e80e4455",
   "metadata": {},
   "outputs": [],
   "source": [
    "#questions i wanna know from titanic data \n",
    "\n",
    "# 1 : Does the family name have an impact on survival, especially among the rich?"
   ]
  },
  {
   "cell_type": "code",
   "execution_count": 83,
   "id": "6b850ff4",
   "metadata": {},
   "outputs": [],
   "source": [
    "#questions i'm gonna answer from titanic data \n",
    "\n",
    "# What factors made people more likely to survive ?"
   ]
  },
  {
   "cell_type": "markdown",
   "id": "ddede175",
   "metadata": {},
   "source": [
    "## Fixing Data Types"
   ]
  },
  {
   "cell_type": "code",
   "execution_count": 84,
   "id": "06197b2b",
   "metadata": {},
   "outputs": [],
   "source": [
    "def parse_maybe_int(i) :\n",
    "    if i == '' or i == None  :\n",
    "        return None \n",
    "    else : \n",
    "        return int(i)\n",
    "    \n",
    "def parse_maybe_float(f) :\n",
    "    if f == '' :\n",
    "        return None \n",
    "    if f == None :\n",
    "        return None\n",
    "    else : \n",
    "        return float(f)\n",
    "    "
   ]
  },
  {
   "cell_type": "code",
   "execution_count": 85,
   "id": "7eb0f3a8",
   "metadata": {},
   "outputs": [],
   "source": [
    "for data_point in titanic_data :\n",
    "    data_point['PassengerId'] = int(data_point['PassengerId']) \n",
    "    data_point['Survived'] = int(data_point['Survived']) \n",
    "    data_point['Pclass'] = int(data_point['Pclass'])\n",
    "    data_point['Age'] = parse_maybe_int(parse_maybe_float(data_point['Age'])) \n",
    "    data_point['SibSp'] = int(data_point['SibSp']) \n",
    "    data_point['Parch'] = int(data_point['Parch']) \n",
    "    data_point['Fare'] = parse_maybe_float(data_point['Fare']) "
   ]
  },
  {
   "cell_type": "code",
   "execution_count": 86,
   "id": "72531ba9",
   "metadata": {},
   "outputs": [
    {
     "data": {
      "text/plain": [
       "891"
      ]
     },
     "execution_count": 86,
     "metadata": {},
     "output_type": "execute_result"
    }
   ],
   "source": [
    "len(titanic_data)"
   ]
  },
  {
   "cell_type": "code",
   "execution_count": 87,
   "id": "d5ba9681",
   "metadata": {},
   "outputs": [],
   "source": [
    "import pandas as pd \n",
    "\n",
    "def get_survived_passengers(data) :\n",
    "    survived_passengers = [] \n",
    "    for data_point in data : \n",
    "        key = data_point['PassengerId']\n",
    "        if data_point['Survived'] :\n",
    "            survived_passengers.append(data_point) \n",
    "    return survived_passengers\n",
    "        \n",
    "survived_passengers = get_survived_passengers(titanic_data)"
   ]
  },
  {
   "cell_type": "code",
   "execution_count": 148,
   "id": "c98fc2ae",
   "metadata": {},
   "outputs": [
    {
     "data": {
      "text/plain": [
       "342"
      ]
     },
     "execution_count": 148,
     "metadata": {},
     "output_type": "execute_result"
    }
   ],
   "source": [
    "len(survived_passengers)"
   ]
  },
  {
   "cell_type": "code",
   "execution_count": 127,
   "id": "760fae7b",
   "metadata": {},
   "outputs": [],
   "source": [
    "from collections import defaultdict \n",
    "age_group = defaultdict(list)\n",
    "age_group = {'child' : list(range(0,17)) ,'young_adult' : list(range(17,31)) ,'middle_aged_adult' : list(range(31,56)) ,'old_adult' : list(range(56,85))}"
   ]
  },
  {
   "cell_type": "code",
   "execution_count": 128,
   "id": "05e2436f",
   "metadata": {},
   "outputs": [],
   "source": [
    "for data_point in survived_passengers :\n",
    "    age = data_point['Age'] \n",
    "    for key , val in age_group.items() :\n",
    "        if age in val :\n",
    "            data_point['age_label'] = key \n",
    "            break \n",
    "        elif age == None :\n",
    "            data_point['age_label'] = 'unfound' \n",
    "    \n",
    "             "
   ]
  },
  {
   "cell_type": "code",
   "execution_count": 129,
   "id": "33fdafc5",
   "metadata": {},
   "outputs": [
    {
     "data": {
      "text/plain": [
       "{'PassengerId': 37,\n",
       " 'Survived': 1,\n",
       " 'Pclass': 3,\n",
       " 'Name': 'Mamee, Mr. Hanna',\n",
       " 'Sex': 'male',\n",
       " 'Age': None,\n",
       " 'SibSp': 0,\n",
       " 'Parch': 0,\n",
       " 'Ticket': '2677',\n",
       " 'Fare': 7.2292,\n",
       " 'Cabin': '',\n",
       " 'Embarked': 'C',\n",
       " 'age_label': 'unfound'}"
      ]
     },
     "execution_count": 129,
     "metadata": {},
     "output_type": "execute_result"
    }
   ],
   "source": [
    "survived_passengers[17]"
   ]
  },
  {
   "cell_type": "code",
   "execution_count": 130,
   "id": "a9e28e33",
   "metadata": {},
   "outputs": [],
   "source": [
    "def group_data(data, key_name):\n",
    "    grouped_data = defaultdict(list)\n",
    "    for data_point in data:\n",
    "        key = data_point[key_name]\n",
    "        grouped_data[key].append(data_point)\n",
    "    return grouped_data"
   ]
  },
  {
   "cell_type": "code",
   "execution_count": 164,
   "id": "f63942e7",
   "metadata": {},
   "outputs": [
    {
     "data": {
      "text/plain": [
       "middle_aged_adult    [{'PassengerId': 2, 'Survived': 1, 'Pclass': 1...\n",
       "young_adult          [{'PassengerId': 3, 'Survived': 1, 'Pclass': 3...\n",
       "child                [{'PassengerId': 10, 'Survived': 1, 'Pclass': ...\n",
       "old_adult            [{'PassengerId': 12, 'Survived': 1, 'Pclass': ...\n",
       "unfound              [{'PassengerId': 18, 'Survived': 1, 'Pclass': ...\n",
       "dtype: object"
      ]
     },
     "execution_count": 164,
     "metadata": {},
     "output_type": "execute_result"
    }
   ],
   "source": [
    "grouped_by_age = pd.Series(group_data(survived_passengers , 'age_label'))\n",
    "grouped_by_age"
   ]
  },
  {
   "cell_type": "code",
   "execution_count": null,
   "id": "9f0da912",
   "metadata": {},
   "outputs": [],
   "source": [
    "grouped_by_age['middle_aged_adult']"
   ]
  },
  {
   "cell_type": "code",
   "execution_count": 193,
   "id": "9e7ad273",
   "metadata": {},
   "outputs": [
    {
     "data": {
      "text/plain": [
       "middle_aged_adult    112\n",
       "young_adult          111\n",
       "child                 55\n",
       "old_adult             12\n",
       "unfound               52\n",
       "dtype: int64"
      ]
     },
     "execution_count": 193,
     "metadata": {},
     "output_type": "execute_result"
    }
   ],
   "source": [
    "number_survivals_by_group = defaultdict(int)\n",
    "for group in grouped_by_age :\n",
    "    key = group[0]['age_label']\n",
    "    number_survivals_by_group[key] = len(group) \n",
    "    \n",
    "number_survivals_by_group = pd.Series(number_survivals_by_group)\n",
    "number_survivals_by_group"
   ]
  },
  {
   "cell_type": "code",
   "execution_count": 196,
   "id": "b732cb05",
   "metadata": {},
   "outputs": [
    {
     "name": "stdout",
     "output_type": "stream",
     "text": [
      "Populating the interactive namespace from numpy and matplotlib\n"
     ]
    },
    {
     "data": {
      "text/plain": [
       "<AxesSubplot:>"
      ]
     },
     "execution_count": 196,
     "metadata": {},
     "output_type": "execute_result"
    },
    {
     "data": {
      "image/png": "[encoded data removed]",
      "text/plain": [
       "<Figure size 432x288 with 1 Axes>"
      ]
     },
     "metadata": {
      "needs_background": "light"
     },
     "output_type": "display_data"
    }
   ],
   "source": [
    "%pylab inline\n",
    "\n",
    "import matplotlib.pyplot as plt\n",
    "import seaborn as sns\n",
    "\n",
    "\n",
    "number_survivals_by_group.plot()"
   ]
  },
  {
   "cell_type": "code",
   "execution_count": null,
   "id": "1fb6d02f",
   "metadata": {},
   "outputs": [],
   "source": []
  }
 ],
 "metadata": {
  "kernelspec": {
   "display_name": "Python 3 (ipykernel)",
   "language": "python",
   "name": "python3"
  },
  "language_info": {
   "codemirror_mode": {
    "name": "ipython",
    "version": 3
   },
   "file_extension": ".py",
   "mimetype": "text/x-python",
   "name": "python",
   "nbconvert_exporter": "python",
   "pygments_lexer": "ipython3",
   "version": "3.9.7"
  }
 },
 "nbformat": 4,
 "nbformat_minor": 5
}
